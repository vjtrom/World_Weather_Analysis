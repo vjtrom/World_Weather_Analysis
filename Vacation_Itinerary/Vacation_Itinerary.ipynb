{
 "cells": [
  {
   "cell_type": "markdown",
   "metadata": {},
   "source": [
    "## Deliverable 3. Create a Travel Itinerary Map."
   ]
  },
  {
   "cell_type": "code",
   "execution_count": 41,
   "metadata": {},
   "outputs": [],
   "source": [
    "# Dependencies and Setup\n",
    "import pandas as pd\n",
    "import requests\n",
    "import gmaps\n",
    "\n",
    "# Import API key\n",
    "from config import g_key\n",
    "\n",
    "# Configure gmaps\n",
    "gmaps.configure(api_key=g_key)"
   ]
  },
  {
   "cell_type": "code",
   "execution_count": 42,
   "metadata": {},
   "outputs": [
    {
     "data": {
      "text/html": [
       "<div>\n",
       "<style scoped>\n",
       "    .dataframe tbody tr th:only-of-type {\n",
       "        vertical-align: middle;\n",
       "    }\n",
       "\n",
       "    .dataframe tbody tr th {\n",
       "        vertical-align: top;\n",
       "    }\n",
       "\n",
       "    .dataframe thead th {\n",
       "        text-align: right;\n",
       "    }\n",
       "</style>\n",
       "<table border=\"1\" class=\"dataframe\">\n",
       "  <thead>\n",
       "    <tr style=\"text-align: right;\">\n",
       "      <th></th>\n",
       "      <th>City_ID</th>\n",
       "      <th>City</th>\n",
       "      <th>Country</th>\n",
       "      <th>Max Temp</th>\n",
       "      <th>Current Description</th>\n",
       "      <th>Lat</th>\n",
       "      <th>Lng</th>\n",
       "      <th>Hotel Name</th>\n",
       "    </tr>\n",
       "  </thead>\n",
       "  <tbody>\n",
       "    <tr>\n",
       "      <th>0</th>\n",
       "      <td>10</td>\n",
       "      <td>Butaritari</td>\n",
       "      <td>KI</td>\n",
       "      <td>81.97</td>\n",
       "      <td>Clear Sky</td>\n",
       "      <td>3.07</td>\n",
       "      <td>172.79</td>\n",
       "      <td>Isles Sunset Lodge</td>\n",
       "    </tr>\n",
       "    <tr>\n",
       "      <th>1</th>\n",
       "      <td>26</td>\n",
       "      <td>Hithadhoo</td>\n",
       "      <td>MV</td>\n",
       "      <td>80.73</td>\n",
       "      <td>Overcast Clouds</td>\n",
       "      <td>-0.60</td>\n",
       "      <td>73.08</td>\n",
       "      <td>Scoop Guest House</td>\n",
       "    </tr>\n",
       "    <tr>\n",
       "      <th>2</th>\n",
       "      <td>39</td>\n",
       "      <td>Kapaa</td>\n",
       "      <td>US</td>\n",
       "      <td>83.10</td>\n",
       "      <td>Few Clouds</td>\n",
       "      <td>22.08</td>\n",
       "      <td>-159.32</td>\n",
       "      <td>Sheraton Kauai Coconut Beach Resort</td>\n",
       "    </tr>\n",
       "    <tr>\n",
       "      <th>3</th>\n",
       "      <td>43</td>\n",
       "      <td>Kavieng</td>\n",
       "      <td>PG</td>\n",
       "      <td>82.49</td>\n",
       "      <td>Overcast Clouds</td>\n",
       "      <td>-2.57</td>\n",
       "      <td>150.80</td>\n",
       "      <td>Nusa Island Retreat</td>\n",
       "    </tr>\n",
       "    <tr>\n",
       "      <th>4</th>\n",
       "      <td>58</td>\n",
       "      <td>Natal</td>\n",
       "      <td>BR</td>\n",
       "      <td>80.82</td>\n",
       "      <td>Few Clouds</td>\n",
       "      <td>-5.79</td>\n",
       "      <td>-35.21</td>\n",
       "      <td>Villa Park Hotel | Natal</td>\n",
       "    </tr>\n",
       "  </tbody>\n",
       "</table>\n",
       "</div>"
      ],
      "text/plain": [
       "   City_ID        City Country  Max Temp Current Description    Lat     Lng  \\\n",
       "0       10  Butaritari      KI     81.97           Clear Sky   3.07  172.79   \n",
       "1       26   Hithadhoo      MV     80.73     Overcast Clouds  -0.60   73.08   \n",
       "2       39       Kapaa      US     83.10          Few Clouds  22.08 -159.32   \n",
       "3       43     Kavieng      PG     82.49     Overcast Clouds  -2.57  150.80   \n",
       "4       58       Natal      BR     80.82          Few Clouds  -5.79  -35.21   \n",
       "\n",
       "                            Hotel Name  \n",
       "0                   Isles Sunset Lodge  \n",
       "1                    Scoop Guest House  \n",
       "2  Sheraton Kauai Coconut Beach Resort  \n",
       "3                  Nusa Island Retreat  \n",
       "4             Villa Park Hotel | Natal  "
      ]
     },
     "execution_count": 42,
     "metadata": {},
     "output_type": "execute_result"
    }
   ],
   "source": [
    "# 1. Read the WeatherPy_vacation.csv into a DataFrame.\n",
    "vacation_df = pd.read_csv(\"WeatherPy_vacation.csv\")\n",
    "vacation_df.head()"
   ]
  },
  {
   "cell_type": "code",
   "execution_count": 43,
   "metadata": {},
   "outputs": [],
   "source": [
    "# 2. Using the template add the city name, the country code, the weather description and maximum temperature for the city.\n",
    "info_box_template = \"\"\"\n",
    "<dl>\n",
    "<dt>Hotel Name</dt><dd>{Hotel Name}</dd>\n",
    "<dt>City</dt><dd>{City}</dd>\n",
    "<dt>Country</dt><dd>{Country}</dd>\n",
    "<dt>Max Temp</dt><dd>{Max Temp} °F</dd>\n",
    "</dl>\n",
    "\"\"\"\n",
    "\n",
    "# 3a. Get the data from each row and add it to the formatting template and store the data in a list.\n",
    "hotel_info = [info_box_template.format(**row) for index, row in vacation_df.iterrows()]\n",
    "\n",
    "# 3b. Get the latitude and longitude from each row and store in a new DataFrame.\n",
    "locations = vacation_df[[\"Lat\", \"Lng\"]]"
   ]
  },
  {
   "cell_type": "code",
   "execution_count": 44,
   "metadata": {},
   "outputs": [
    {
     "data": {
      "application/vnd.jupyter.widget-view+json": {
       "model_id": "752eb7ba9d714da992bc042ce963af29",
       "version_major": 2,
       "version_minor": 0
      },
      "text/plain": [
       "Figure(layout=FigureLayout(height='420px'))"
      ]
     },
     "metadata": {},
     "output_type": "display_data"
    }
   ],
   "source": [
    "# 4a. Add a marker layer for each city to the map.\n",
    "\n",
    "locations = vacation_df[[\"Lat\", \"Lng\"]]\n",
    "max_temp = vacation_df[\"Max Temp\"]\n",
    "fig = gmaps.figure(center=(30.0, 31.0), zoom_level=2)\n",
    "heat_layer = gmaps.heatmap_layer(locations, weights=max_temp,dissipating=False,\n",
    "             max_intensity=300, point_radius=4)\n",
    "marker_layer = gmaps.marker_layer(locations, info_box_content=hotel_info)\n",
    "fig.add_layer(heat_layer)\n",
    "fig.add_layer(marker_layer)\n",
    "\n",
    "# 4b. Display the figure\n",
    "fig\n"
   ]
  },
  {
   "cell_type": "code",
   "execution_count": 45,
   "metadata": {},
   "outputs": [
    {
     "name": "stdout",
     "output_type": "stream",
     "text": [
      "    City_ID   City Country  Max Temp Current Description   Lat   Lng  \\\n",
      "62      647  Upata      VE     83.19     Overcast Clouds  8.01 -62.4   \n",
      "\n",
      "           Hotel Name  \n",
      "62  Posada Villa Nela  \n",
      "    City_ID   City Country  Max Temp Current Description   Lat   Lng  \\\n",
      "62      647  Upata      VE     83.19     Overcast Clouds  8.01 -62.4   \n",
      "\n",
      "           Hotel Name  \n",
      "62  Posada Villa Nela  \n",
      "    City_ID     City Country  Max Temp Current Description   Lat    Lng  \\\n",
      "41      507  Maturin      VE     84.63     Overcast Clouds  9.75 -63.18   \n",
      "\n",
      "                Hotel Name  \n",
      "41  Residencias Guaritos I  \n",
      "    City_ID           City Country  Max Temp Current Description   Lat    Lng  \\\n",
      "63      653  Villa Bruzual      VE     84.31       Broken Clouds  9.33 -69.12   \n",
      "\n",
      "     Hotel Name  \n",
      "63  Hotel Turen  \n",
      "    City_ID           City Country  Max Temp Current Description   Lat    Lng  \\\n",
      "36      483  San Cristobal      VE     84.38    Scattered Clouds  7.77 -72.22   \n",
      "\n",
      "   Hotel Name  \n",
      "36   Pirineos  \n"
     ]
    }
   ],
   "source": [
    "# From the map above pick 4 cities and create a vacation itinerary route to travel between the four cities. \n",
    "# 5. Create DataFrames for each city by filtering the 'vacation_df' using the loc method. \n",
    "\n",
    "# Hint: The starting and ending city should be the same city.\n",
    "\n",
    "vacation_start = vacation_df.loc[vacation_df['City'] == 'Upata']\n",
    "vacation_end = vacation_df.loc[vacation_df['City'] == 'Upata']\n",
    "vacation_stop1 = vacation_df.loc[vacation_df['City'] == 'Maturin']\n",
    "vacation_stop2 = vacation_df.loc[vacation_df['City'] == 'Villa Bruzual'] \n",
    "vacation_stop3 = vacation_df.loc[vacation_df['City'] == 'San Cristobal'] \n",
    "\n",
    "print(vacation_start)\n",
    "print(vacation_end)\n",
    "print(vacation_stop1)\n",
    "print(vacation_stop2)\n",
    "print(vacation_stop3)"
   ]
  },
  {
   "cell_type": "code",
   "execution_count": 46,
   "metadata": {},
   "outputs": [
    {
     "name": "stdout",
     "output_type": "stream",
     "text": [
      "Start: (8.01, -62.4), stop1: (9.75, -63.18), stop2: (9.33, -69.12), stop3: (7.77, -72.22), End: (8.01, -62.4)\n"
     ]
    }
   ],
   "source": [
    "# 6. Get the latitude-longitude pairs as tuples from each city DataFrame using the to_numpy function and list indexing.\n",
    "\n",
    "start = vacation_start[\"Lat\"].to_numpy()[0], vacation_start[\"Lng\"].to_numpy()[0]\n",
    "end = vacation_end[\"Lat\"].to_numpy()[0], vacation_end[\"Lng\"].to_numpy()[0]\n",
    "stop1 = vacation_stop1[\"Lat\"].to_numpy()[0], vacation_stop1[\"Lng\"].to_numpy()[0]\n",
    "stop2 = vacation_stop2[\"Lat\"].to_numpy()[0], vacation_stop2[\"Lng\"].to_numpy()[0]\n",
    "stop3 = vacation_stop3[\"Lat\"].to_numpy()[0], vacation_stop3[\"Lng\"].to_numpy()[0]\n",
    "\n",
    "print(f'Start: {start}, stop1: {stop1}, stop2: {stop2}, stop3: {stop3}, End: {end}')"
   ]
  },
  {
   "cell_type": "code",
   "execution_count": 47,
   "metadata": {
    "scrolled": true
   },
   "outputs": [
    {
     "data": {
      "application/vnd.jupyter.widget-view+json": {
       "model_id": "916eeab90f4543f18df37a2319172067",
       "version_major": 2,
       "version_minor": 0
      },
      "text/plain": [
       "Figure(layout=FigureLayout(height='420px'))"
      ]
     },
     "metadata": {},
     "output_type": "display_data"
    }
   ],
   "source": [
    "# 7. Create a direction layer map using the start and end latitude-longitude pairs,\n",
    "# and stop1, stop2, and stop3 as the waypoints. The travel_mode should be \"DRIVING\", \"BICYCLING\", or \"WALKING\".\n",
    "# Create Map with route\n",
    "fig = gmaps.figure()\n",
    "city_itinerary = gmaps.directions_layer(\n",
    "        start, end, waypoints=[stop1, stop2, stop3],\n",
    "        travel_mode='DRIVING')\n",
    "\n",
    "fig.add_layer(city_itinerary)\n",
    "fig\n",
    "\n"
   ]
  },
  {
   "cell_type": "code",
   "execution_count": 48,
   "metadata": {},
   "outputs": [
    {
     "data": {
      "text/html": [
       "<div>\n",
       "<style scoped>\n",
       "    .dataframe tbody tr th:only-of-type {\n",
       "        vertical-align: middle;\n",
       "    }\n",
       "\n",
       "    .dataframe tbody tr th {\n",
       "        vertical-align: top;\n",
       "    }\n",
       "\n",
       "    .dataframe thead th {\n",
       "        text-align: right;\n",
       "    }\n",
       "</style>\n",
       "<table border=\"1\" class=\"dataframe\">\n",
       "  <thead>\n",
       "    <tr style=\"text-align: right;\">\n",
       "      <th></th>\n",
       "      <th>City_ID</th>\n",
       "      <th>City</th>\n",
       "      <th>Country</th>\n",
       "      <th>Max Temp</th>\n",
       "      <th>Current Description</th>\n",
       "      <th>Lat</th>\n",
       "      <th>Lng</th>\n",
       "      <th>Hotel Name</th>\n",
       "    </tr>\n",
       "  </thead>\n",
       "  <tbody>\n",
       "    <tr>\n",
       "      <th>0</th>\n",
       "      <td>647</td>\n",
       "      <td>Upata</td>\n",
       "      <td>VE</td>\n",
       "      <td>83.19</td>\n",
       "      <td>Overcast Clouds</td>\n",
       "      <td>8.01</td>\n",
       "      <td>-62.40</td>\n",
       "      <td>Posada Villa Nela</td>\n",
       "    </tr>\n",
       "    <tr>\n",
       "      <th>1</th>\n",
       "      <td>507</td>\n",
       "      <td>Maturin</td>\n",
       "      <td>VE</td>\n",
       "      <td>84.63</td>\n",
       "      <td>Overcast Clouds</td>\n",
       "      <td>9.75</td>\n",
       "      <td>-63.18</td>\n",
       "      <td>Residencias Guaritos I</td>\n",
       "    </tr>\n",
       "    <tr>\n",
       "      <th>2</th>\n",
       "      <td>653</td>\n",
       "      <td>Villa Bruzual</td>\n",
       "      <td>VE</td>\n",
       "      <td>84.31</td>\n",
       "      <td>Broken Clouds</td>\n",
       "      <td>9.33</td>\n",
       "      <td>-69.12</td>\n",
       "      <td>Hotel Turen</td>\n",
       "    </tr>\n",
       "    <tr>\n",
       "      <th>3</th>\n",
       "      <td>483</td>\n",
       "      <td>San Cristobal</td>\n",
       "      <td>VE</td>\n",
       "      <td>84.38</td>\n",
       "      <td>Scattered Clouds</td>\n",
       "      <td>7.77</td>\n",
       "      <td>-72.22</td>\n",
       "      <td>Pirineos</td>\n",
       "    </tr>\n",
       "    <tr>\n",
       "      <th>4</th>\n",
       "      <td>647</td>\n",
       "      <td>Upata</td>\n",
       "      <td>VE</td>\n",
       "      <td>83.19</td>\n",
       "      <td>Overcast Clouds</td>\n",
       "      <td>8.01</td>\n",
       "      <td>-62.40</td>\n",
       "      <td>Posada Villa Nela</td>\n",
       "    </tr>\n",
       "  </tbody>\n",
       "</table>\n",
       "</div>"
      ],
      "text/plain": [
       "   City_ID           City Country  Max Temp Current Description   Lat    Lng  \\\n",
       "0      647          Upata      VE     83.19     Overcast Clouds  8.01 -62.40   \n",
       "1      507        Maturin      VE     84.63     Overcast Clouds  9.75 -63.18   \n",
       "2      653  Villa Bruzual      VE     84.31       Broken Clouds  9.33 -69.12   \n",
       "3      483  San Cristobal      VE     84.38    Scattered Clouds  7.77 -72.22   \n",
       "4      647          Upata      VE     83.19     Overcast Clouds  8.01 -62.40   \n",
       "\n",
       "               Hotel Name  \n",
       "0       Posada Villa Nela  \n",
       "1  Residencias Guaritos I  \n",
       "2             Hotel Turen  \n",
       "3                Pirineos  \n",
       "4       Posada Villa Nela  "
      ]
     },
     "execution_count": 48,
     "metadata": {},
     "output_type": "execute_result"
    }
   ],
   "source": [
    "# 8. To create a marker layer map between the four cities.\n",
    "#  Combine the four city DataFrames into one DataFrame using the concat() function.\n",
    "itinerary_df = pd.concat([vacation_start , vacation_stop1, vacation_stop2 , vacation_stop3, vacation_end],ignore_index=True)\n",
    "itinerary_df"
   ]
  },
  {
   "cell_type": "code",
   "execution_count": 49,
   "metadata": {},
   "outputs": [],
   "source": [
    "# 9 Using the template add city name, the country code, the weather description and maximum temperature for the city. \n",
    "info_box_template = \"\"\"\n",
    "<dl>\n",
    "<dt>Hotel Name</dt><dd>{Hotel Name}</dd>\n",
    "<dt>City</dt><dd>{City}</dd>\n",
    "<dt>Country</dt><dd>{Country}</dd>\n",
    "<dt>Max Temp</dt><dd>{Max Temp} °F</dd>\n",
    "</dl>\n",
    "\"\"\"\n",
    "\n",
    "# 10a Get the data from each row and add it to the formatting template and store the data in a list.\n",
    "hotel_info = [info_box_template.format(**row) for index, row in itinerary_df.iterrows()]\n",
    "\n",
    "# 10b. Get the latitude and longitude from each row and store in a new DataFrame.\n",
    "locations = itinerary_df[[\"Lat\", \"Lng\"]]"
   ]
  },
  {
   "cell_type": "code",
   "execution_count": 62,
   "metadata": {},
   "outputs": [
    {
     "data": {
      "application/vnd.jupyter.widget-view+json": {
       "model_id": "7122be6f382b42ac8ce6a5d54695f843",
       "version_major": 2,
       "version_minor": 0
      },
      "text/plain": [
       "Figure(layout=FigureLayout(height='420px'))"
      ]
     },
     "metadata": {},
     "output_type": "display_data"
    }
   ],
   "source": [
    "# 11a. Add a marker layer for each city to the map.\n",
    "\n",
    "locations = itinerary_df[[\"Lat\", \"Lng\"]]\n",
    "max_temp = itinerary_df[\"Max Temp\"]\n",
    "fig = gmaps.figure(center=(9, -67), zoom_level=6)\n",
    "heat_layer = gmaps.heatmap_layer(locations, weights=max_temp,dissipating=False,\n",
    "             max_intensity=300, point_radius=1)\n",
    "marker_layer = gmaps.marker_layer(locations, info_box_content=hotel_info)\n",
    "fig.add_layer(heat_layer)\n",
    "fig.add_layer(marker_layer)\n",
    "\n",
    "# 11b. Display the figure\n",
    "fig"
   ]
  },
  {
   "cell_type": "code",
   "execution_count": null,
   "metadata": {},
   "outputs": [],
   "source": []
  }
 ],
 "metadata": {
  "kernelspec": {
   "display_name": "PythonData",
   "language": "python",
   "name": "pythondata"
  },
  "language_info": {
   "codemirror_mode": {
    "name": "ipython",
    "version": 3
   },
   "file_extension": ".py",
   "mimetype": "text/x-python",
   "name": "python",
   "nbconvert_exporter": "python",
   "pygments_lexer": "ipython3",
   "version": "3.7.13"
  },
  "latex_envs": {
   "LaTeX_envs_menu_present": true,
   "autoclose": false,
   "autocomplete": true,
   "bibliofile": "biblio.bib",
   "cite_by": "apalike",
   "current_citInitial": 1,
   "eqLabelWithNumbers": true,
   "eqNumInitial": 1,
   "hotkeys": {
    "equation": "Ctrl-E",
    "itemize": "Ctrl-I"
   },
   "labels_anchors": false,
   "latex_user_defs": false,
   "report_style_numbering": false,
   "user_envs_cfg": false
  }
 },
 "nbformat": 4,
 "nbformat_minor": 2
}
